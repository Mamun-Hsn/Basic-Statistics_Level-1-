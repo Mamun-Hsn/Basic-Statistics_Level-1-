{
 "cells": [
  {
   "cell_type": "markdown",
   "id": "fa2da017",
   "metadata": {},
   "source": [
    "# Q_22.<u>Calculate the Z scores of  90% confidence interval,94% confidence interval, 60% confidence interval "
   ]
  },
  {
   "cell_type": "markdown",
   "id": "f6170e51",
   "metadata": {},
   "source": [
    "### <u>Import Important Libraries"
   ]
  },
  {
   "cell_type": "code",
   "execution_count": 2,
   "id": "4ba1416d",
   "metadata": {},
   "outputs": [],
   "source": [
    "from scipy import stats\n",
    "from scipy.stats import norm"
   ]
  },
  {
   "cell_type": "markdown",
   "id": "c7f105fd",
   "metadata": {},
   "source": [
    "#### Area Left(AL) = (1+CI) / 2"
   ]
  },
  {
   "cell_type": "code",
   "execution_count": 5,
   "id": "0938236c",
   "metadata": {},
   "outputs": [
    {
     "data": {
      "text/plain": [
       "0.95"
      ]
     },
     "execution_count": 5,
     "metadata": {},
     "output_type": "execute_result"
    }
   ],
   "source": [
    "a = (1+.90)/2\n",
    "a"
   ]
  },
  {
   "cell_type": "code",
   "execution_count": 6,
   "id": "e3ea58f2",
   "metadata": {},
   "outputs": [
    {
     "data": {
      "text/plain": [
       "0.97"
      ]
     },
     "execution_count": 6,
     "metadata": {},
     "output_type": "execute_result"
    }
   ],
   "source": [
    "b = (1+.94)/2\n",
    "b"
   ]
  },
  {
   "cell_type": "code",
   "execution_count": 7,
   "id": "dec1acfa",
   "metadata": {},
   "outputs": [
    {
     "data": {
      "text/plain": [
       "0.8"
      ]
     },
     "execution_count": 7,
     "metadata": {},
     "output_type": "execute_result"
    }
   ],
   "source": [
    "c = (1+.6)/2\n",
    "c"
   ]
  },
  {
   "cell_type": "markdown",
   "id": "a7dc4f4d",
   "metadata": {},
   "source": [
    "### <u> Z-scores of  90% confidence interval"
   ]
  },
  {
   "cell_type": "code",
   "execution_count": 3,
   "id": "9edd64ce",
   "metadata": {},
   "outputs": [
    {
     "data": {
      "text/plain": [
       "1.6448536269514722"
      ]
     },
     "execution_count": 3,
     "metadata": {},
     "output_type": "execute_result"
    }
   ],
   "source": [
    "stats.norm.ppf(.95)"
   ]
  },
  {
   "cell_type": "markdown",
   "id": "06a010b0",
   "metadata": {},
   "source": [
    "## <u>Z-scores of 94% confidence interval"
   ]
  },
  {
   "cell_type": "code",
   "execution_count": 5,
   "id": "85433c6b",
   "metadata": {},
   "outputs": [
    {
     "data": {
      "text/plain": [
       "1.8807936081512509"
      ]
     },
     "execution_count": 5,
     "metadata": {},
     "output_type": "execute_result"
    }
   ],
   "source": [
    "stats.norm.ppf(.97)"
   ]
  },
  {
   "cell_type": "markdown",
   "id": "4dbc83c7",
   "metadata": {},
   "source": [
    "## Z-scores of 60% confidence interval"
   ]
  },
  {
   "cell_type": "code",
   "execution_count": 6,
   "id": "03468741",
   "metadata": {},
   "outputs": [
    {
     "data": {
      "text/plain": [
       "0.8416212335729143"
      ]
     },
     "execution_count": 6,
     "metadata": {},
     "output_type": "execute_result"
    }
   ],
   "source": [
    "stats.norm.ppf(0.8)"
   ]
  },
  {
   "cell_type": "markdown",
   "id": "b208717d",
   "metadata": {},
   "source": [
    "# ======================= The End =============================="
   ]
  }
 ],
 "metadata": {
  "kernelspec": {
   "display_name": "Python 3 (ipykernel)",
   "language": "python",
   "name": "python3"
  },
  "language_info": {
   "codemirror_mode": {
    "name": "ipython",
    "version": 3
   },
   "file_extension": ".py",
   "mimetype": "text/x-python",
   "name": "python",
   "nbconvert_exporter": "python",
   "pygments_lexer": "ipython3",
   "version": "3.9.7"
  }
 },
 "nbformat": 4,
 "nbformat_minor": 5
}
