{
 "cells": [
  {
   "cell_type": "markdown",
   "id": "78c034ef",
   "metadata": {},
   "source": [
    "### Q_24.<u>A Government  company claims that an average light bulb lasts 270 days. A researcher randomly selects 18 bulbs for testing. The sampled bulbs last an average of 260 days, with a standard deviation of 90 days. If the CEO's claim were true, what is the probability that 18 randomly selected bulbs would have an average life of no more than 260 days\n",
    "Hint:  \n",
    "   rcode   pt(tscore,df)  \n",
    " df  degrees of freedom\n"
   ]
  },
  {
   "cell_type": "markdown",
   "id": "ac3ea54f",
   "metadata": {},
   "source": [
    "### <u>Import Important  Libraries"
   ]
  },
  {
   "cell_type": "code",
   "execution_count": 1,
   "id": "a463a4e1",
   "metadata": {},
   "outputs": [],
   "source": [
    "from scipy import stats\n",
    "from scipy.stats import norm"
   ]
  },
  {
   "cell_type": "markdown",
   "id": "4750cda8",
   "metadata": {},
   "source": [
    "####   Assume Null Hypothesis is: Ho = Avg life of Bulb >= 260 days"
   ]
  },
  {
   "cell_type": "markdown",
   "id": "303a5dd2",
   "metadata": {},
   "source": [
    "####  Alternate Hypothesis is: H1 = Avg life of Bulb < 260 days "
   ]
  },
  {
   "cell_type": "markdown",
   "id": "a4337467",
   "metadata": {},
   "source": [
    "####  find t-scores at x=260; t=(s_mean-P_mean)/(s_SD/sqrt(n)) "
   ]
  },
  {
   "cell_type": "code",
   "execution_count": 3,
   "id": "f462de8f",
   "metadata": {},
   "outputs": [
    {
     "data": {
      "text/plain": [
       "-0.4714045207910317"
      ]
     },
     "execution_count": 3,
     "metadata": {},
     "output_type": "execute_result"
    }
   ],
   "source": [
    "t=(260-270)/(90/18**0.5)\n",
    "t"
   ]
  },
  {
   "cell_type": "markdown",
   "id": "44911488",
   "metadata": {},
   "source": [
    "###  Find P(X>=260) for null hypothesis "
   ]
  },
  {
   "cell_type": "markdown",
   "id": "233cca01",
   "metadata": {},
   "source": [
    "####  P_Value = 1-stats.t.cdf(abs(t_scores), df = n-1)... Using cdf function "
   ]
  },
  {
   "cell_type": "code",
   "execution_count": 11,
   "id": "c1199963",
   "metadata": {},
   "outputs": [
    {
     "data": {
      "text/plain": [
       "0.32167411684460556"
      ]
     },
     "execution_count": 11,
     "metadata": {},
     "output_type": "execute_result"
    }
   ],
   "source": [
    "P_Value = 1-stats.t.cdf(abs(-.4714),df=17)\n",
    "P_Value"
   ]
  },
  {
   "cell_type": "markdown",
   "id": "bf8a37db",
   "metadata": {},
   "source": [
    "####  OR      P_Value = stats.t.sf(abs(t_score), df = n-1)... Using sf function"
   ]
  },
  {
   "cell_type": "code",
   "execution_count": 9,
   "id": "92afbdc2",
   "metadata": {},
   "outputs": [
    {
     "data": {
      "text/plain": [
       "0.32167411684460556"
      ]
     },
     "execution_count": 9,
     "metadata": {},
     "output_type": "execute_result"
    }
   ],
   "source": [
    "P_Value=stats.t.sf(abs(-0.4714),df=17)\n",
    "P_Value"
   ]
  },
  {
   "cell_type": "markdown",
   "id": "de55e520",
   "metadata": {},
   "source": [
    "# ======================== The End ============================="
   ]
  }
 ],
 "metadata": {
  "kernelspec": {
   "display_name": "Python 3 (ipykernel)",
   "language": "python",
   "name": "python3"
  },
  "language_info": {
   "codemirror_mode": {
    "name": "ipython",
    "version": 3
   },
   "file_extension": ".py",
   "mimetype": "text/x-python",
   "name": "python",
   "nbconvert_exporter": "python",
   "pygments_lexer": "ipython3",
   "version": "3.9.7"
  }
 },
 "nbformat": 4,
 "nbformat_minor": 5
}
