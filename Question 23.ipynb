{
 "cells": [
  {
   "cell_type": "markdown",
   "id": "386eee2f",
   "metadata": {},
   "source": [
    "# Q_23. <u>Calculate the Z scores of  90% confidence interval,94% confidence interval, 60% confidence interval "
   ]
  },
  {
   "cell_type": "markdown",
   "id": "96929137",
   "metadata": {},
   "source": [
    "## <u>Import Important Libraries"
   ]
  },
  {
   "cell_type": "code",
   "execution_count": 1,
   "id": "5da9e3d4",
   "metadata": {},
   "outputs": [],
   "source": [
    "from scipy import stats\n",
    "from scipy.stats import norm"
   ]
  },
  {
   "cell_type": "markdown",
   "id": "e323dabf",
   "metadata": {},
   "source": [
    "Sample size = 25\n",
    "df = n-1 = 24"
   ]
  },
  {
   "cell_type": "markdown",
   "id": "639dea82",
   "metadata": {},
   "source": [
    "## <u>t scores of 95% confidence interval for sample size of 25"
   ]
  },
  {
   "cell_type": "code",
   "execution_count": 2,
   "id": "e0f10bf0",
   "metadata": {},
   "outputs": [
    {
     "data": {
      "text/plain": [
       "2.0638985616280205"
      ]
     },
     "execution_count": 2,
     "metadata": {},
     "output_type": "execute_result"
    }
   ],
   "source": [
    "stats.t.ppf(.975,24)"
   ]
  },
  {
   "cell_type": "markdown",
   "id": "bdc2264e",
   "metadata": {},
   "source": [
    "## <u>t scores of 96% confidence interval for sample size of 25"
   ]
  },
  {
   "cell_type": "code",
   "execution_count": 3,
   "id": "f7b4764e",
   "metadata": {},
   "outputs": [
    {
     "data": {
      "text/plain": [
       "2.1715446760080677"
      ]
     },
     "execution_count": 3,
     "metadata": {},
     "output_type": "execute_result"
    }
   ],
   "source": [
    "stats.t.ppf(.98,24)"
   ]
  },
  {
   "cell_type": "markdown",
   "id": "692063fb",
   "metadata": {},
   "source": [
    "## <u>t scores of 99% confidence interval for sample size of 25"
   ]
  },
  {
   "cell_type": "code",
   "execution_count": 4,
   "id": "8994853d",
   "metadata": {},
   "outputs": [
    {
     "data": {
      "text/plain": [
       "2.796939504772804"
      ]
     },
     "execution_count": 4,
     "metadata": {},
     "output_type": "execute_result"
    }
   ],
   "source": [
    "stats.t.ppf(.995,24)"
   ]
  },
  {
   "cell_type": "markdown",
   "id": "49e329d6",
   "metadata": {},
   "source": [
    "# ======================= The End =============================="
   ]
  }
 ],
 "metadata": {
  "kernelspec": {
   "display_name": "Python 3 (ipykernel)",
   "language": "python",
   "name": "python3"
  },
  "language_info": {
   "codemirror_mode": {
    "name": "ipython",
    "version": 3
   },
   "file_extension": ".py",
   "mimetype": "text/x-python",
   "name": "python",
   "nbconvert_exporter": "python",
   "pygments_lexer": "ipython3",
   "version": "3.9.7"
  }
 },
 "nbformat": 4,
 "nbformat_minor": 5
}
