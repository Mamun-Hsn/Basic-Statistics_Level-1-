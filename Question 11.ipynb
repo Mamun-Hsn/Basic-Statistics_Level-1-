{
 "cells": [
  {
   "cell_type": "markdown",
   "id": "4467a3a7",
   "metadata": {},
   "source": [
    "## Q_11. <u>Suppose we want to estimate the average weight of an adult male in    Mexico. We draw a random sample of 2,000 men from a population of 3,000,000 men and weigh them. We find that the average person in our sample weighs 200 pounds, and the standard deviation of the sample is 30 pounds. Calculate 94%,98%,96% confidence interval?"
   ]
  },
  {
   "cell_type": "markdown",
   "id": "1ade4b10",
   "metadata": {},
   "source": [
    "# <u>Import Libraries"
   ]
  },
  {
   "cell_type": "code",
   "execution_count": 1,
   "id": "6cc2fb1f",
   "metadata": {},
   "outputs": [],
   "source": [
    "import numpy as np\n",
    "import pandas as pd\n",
    "from scipy import stats\n",
    "from scipy.stats import norm"
   ]
  },
  {
   "cell_type": "markdown",
   "id": "cf0a605e",
   "metadata": {},
   "source": [
    "### <u>Avg. weight of Adult in Mexico with 94% CI"
   ]
  },
  {
   "cell_type": "code",
   "execution_count": 2,
   "id": "f24e8cf1",
   "metadata": {},
   "outputs": [
    {
     "data": {
      "text/plain": [
       "(198.738325292158, 201.261674707842)"
      ]
     },
     "execution_count": 2,
     "metadata": {},
     "output_type": "execute_result"
    }
   ],
   "source": [
    "stats.norm.interval(0.94,200,30/(2000**0.5))"
   ]
  },
  {
   "cell_type": "markdown",
   "id": "9b1231cf",
   "metadata": {},
   "source": [
    "### <u>Avg. weight of Adult in Mexico with 98% CI"
   ]
  },
  {
   "cell_type": "code",
   "execution_count": 3,
   "id": "d2dae340",
   "metadata": {},
   "outputs": [
    {
     "data": {
      "text/plain": [
       "(198.43943840429978, 201.56056159570022)"
      ]
     },
     "execution_count": 3,
     "metadata": {},
     "output_type": "execute_result"
    }
   ],
   "source": [
    "stats.norm.interval(0.98,200,30/(2000**0.5))"
   ]
  },
  {
   "cell_type": "markdown",
   "id": "497b8758",
   "metadata": {},
   "source": [
    "### <u>Avg. weight of Adult in Mexico with 96% CI"
   ]
  },
  {
   "cell_type": "code",
   "execution_count": 4,
   "id": "30196b25",
   "metadata": {},
   "outputs": [
    {
     "data": {
      "text/plain": [
       "(198.62230334813333, 201.37769665186667)"
      ]
     },
     "execution_count": 4,
     "metadata": {},
     "output_type": "execute_result"
    }
   ],
   "source": [
    "stats.norm.interval(0.96,200,30/(2000**0.5))"
   ]
  },
  {
   "cell_type": "markdown",
   "id": "fd688512",
   "metadata": {},
   "source": [
    "# ======================== The End ============================="
   ]
  },
  {
   "cell_type": "code",
   "execution_count": null,
   "id": "27a8f8c7",
   "metadata": {},
   "outputs": [],
   "source": []
  }
 ],
 "metadata": {
  "kernelspec": {
   "display_name": "Python 3 (ipykernel)",
   "language": "python",
   "name": "python3"
  },
  "language_info": {
   "codemirror_mode": {
    "name": "ipython",
    "version": 3
   },
   "file_extension": ".py",
   "mimetype": "text/x-python",
   "name": "python",
   "nbconvert_exporter": "python",
   "pygments_lexer": "ipython3",
   "version": "3.9.7"
  }
 },
 "nbformat": 4,
 "nbformat_minor": 5
}
